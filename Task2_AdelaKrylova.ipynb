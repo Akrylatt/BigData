{
  "cells": [
    {
      "cell_type": "markdown",
      "metadata": {
        "id": "PhsI1g58CZpg"
      },
      "source": [
        "# Midterm Exam Big Data part 2\n",
        "- Name : \n",
        "- NRP : "
      ]
    },
    {
      "cell_type": "markdown",
      "source": [
        "2. (RecommendaƟon Systems – Frequent Patern Mining)\n",
        "\n",
        "You are given the market basket dataset (market-basket.csv).\n",
        "\n",
        "Use the FP-growth algorithm in Apache Spark to find the most frequent items. \n",
        "\n",
        "Save your result into an .xlsx files.\n",
        "\n",
        "Do the experiment with different minSupport and minConfidence values. Give the\n",
        "conclusion at the end of experiment.\n"
      ],
      "metadata": {
        "id": "5Pp7X_MRUCwA"
      }
    },
    {
      "cell_type": "markdown",
      "metadata": {
        "id": "H2VgiBCX5OE_"
      },
      "source": [
        "## 2. Data Loading"
      ]
    },
    {
      "cell_type": "code",
      "execution_count": 1,
      "metadata": {
        "colab": {
          "base_uri": "https://localhost:8080/"
        },
        "id": "UIzbt0Gn6QnN",
        "outputId": "883b25a6-a8bd-43fa-9540-26ea04d4fcf2"
      },
      "outputs": [
        {
          "output_type": "stream",
          "name": "stdout",
          "text": [
            "Looking in indexes: https://pypi.org/simple, https://us-python.pkg.dev/colab-wheels/public/simple/\n",
            "Collecting pyspark\n",
            "  Downloading pyspark-3.4.0.tar.gz (310.8 MB)\n",
            "\u001b[2K     \u001b[90m━━━━━━━━━━━━━━━━━━━━━━━━━━━━━━━━━━━━━━━\u001b[0m \u001b[32m310.8/310.8 MB\u001b[0m \u001b[31m5.3 MB/s\u001b[0m eta \u001b[36m0:00:00\u001b[0m\n",
            "\u001b[?25h  Preparing metadata (setup.py) ... \u001b[?25l\u001b[?25hdone\n",
            "Requirement already satisfied: py4j==0.10.9.7 in /usr/local/lib/python3.9/dist-packages (from pyspark) (0.10.9.7)\n",
            "Building wheels for collected packages: pyspark\n",
            "  Building wheel for pyspark (setup.py) ... \u001b[?25l\u001b[?25hdone\n",
            "  Created wheel for pyspark: filename=pyspark-3.4.0-py2.py3-none-any.whl size=311317145 sha256=6ad59f2a7707049d3372b98e09ac7a119613a5d7635978c6d6127023f33f0819\n",
            "  Stored in directory: /root/.cache/pip/wheels/9f/34/a4/159aa12d0a510d5ff7c8f0220abbea42e5d81ecf588c4fd884\n",
            "Successfully built pyspark\n",
            "Installing collected packages: pyspark\n",
            "Successfully installed pyspark-3.4.0\n"
          ]
        }
      ],
      "source": [
        "# Install Apache Spark\n",
        "!pip install pyspark"
      ]
    },
    {
      "cell_type": "code",
      "execution_count": 2,
      "metadata": {
        "id": "PbKhq6mg62wR"
      },
      "outputs": [],
      "source": [
        "# Import required libraries\n",
        "\n",
        "from pyspark.sql import SparkSession\n",
        "from pyspark.sql.functions import *\n",
        "from pyspark.ml.fpm import FPGrowth\n"
      ]
    },
    {
      "cell_type": "code",
      "execution_count": 3,
      "metadata": {
        "id": "dIVNb2Bj645r"
      },
      "outputs": [],
      "source": [
        "# Create Spark Session/Context\n",
        "spark = SparkSession.builder \\\n",
        "    .master(\"local\") \\\n",
        "    .appName(\"Frequent Itemset\") \\\n",
        "    .config(\"spark.some.config.option\", \"some-value\") \\\n",
        "    .getOrCreate()"
      ]
    },
    {
      "cell_type": "code",
      "execution_count": 11,
      "metadata": {
        "colab": {
          "base_uri": "https://localhost:8080/"
        },
        "id": "KDr-fmpv84J9",
        "outputId": "3d7032d9-dfb3-47ed-a921-60745a9c85d4"
      },
      "outputs": [
        {
          "output_type": "stream",
          "name": "stdout",
          "text": [
            "+------+--------------------+--------+----------------+-----+----------+--------------+\n",
            "|BillNo|            Itemname|Quantity|            Date|Price|CustomerID|       Country|\n",
            "+------+--------------------+--------+----------------+-----+----------+--------------+\n",
            "|536365|WHITE HANGING HEA...|       6|01.12.2010 08:26| 2,55|     17850|United Kingdom|\n",
            "|536365| WHITE METAL LANTERN|       6|01.12.2010 08:26| 3,39|     17850|United Kingdom|\n",
            "|536365|CREAM CUPID HEART...|       8|01.12.2010 08:26| 2,75|     17850|United Kingdom|\n",
            "|536365|KNITTED UNION FLA...|       6|01.12.2010 08:26| 3,39|     17850|United Kingdom|\n",
            "|536365|RED WOOLLY HOTTIE...|       6|01.12.2010 08:26| 3,39|     17850|United Kingdom|\n",
            "|536365|SET 7 BABUSHKA NE...|       2|01.12.2010 08:26| 7,65|     17850|United Kingdom|\n",
            "|536365|GLASS STAR FROSTE...|       6|01.12.2010 08:26| 4,25|     17850|United Kingdom|\n",
            "|536366|HAND WARMER UNION...|       6|01.12.2010 08:28| 1,85|     17850|United Kingdom|\n",
            "|536366|HAND WARMER RED P...|       6|01.12.2010 08:28| 1,85|     17850|United Kingdom|\n",
            "|536367|ASSORTED COLOUR B...|      32|01.12.2010 08:34| 1,69|     13047|United Kingdom|\n",
            "|536367|POPPY'S PLAYHOUSE...|       6|01.12.2010 08:34|  2,1|     13047|United Kingdom|\n",
            "|536367|POPPY'S PLAYHOUSE...|       6|01.12.2010 08:34|  2,1|     13047|United Kingdom|\n",
            "|536367|FELTCRAFT PRINCES...|       8|01.12.2010 08:34| 3,75|     13047|United Kingdom|\n",
            "|536367|IVORY KNITTED MUG...|       6|01.12.2010 08:34| 1,65|     13047|United Kingdom|\n",
            "|536367|BOX OF 6 ASSORTED...|       6|01.12.2010 08:34| 4,25|     13047|United Kingdom|\n",
            "|536367|BOX OF VINTAGE JI...|       3|01.12.2010 08:34| 4,95|     13047|United Kingdom|\n",
            "|536367|BOX OF VINTAGE AL...|       2|01.12.2010 08:34| 9,95|     13047|United Kingdom|\n",
            "|536367|HOME BUILDING BLO...|       3|01.12.2010 08:34| 5,95|     13047|United Kingdom|\n",
            "|536367|LOVE BUILDING BLO...|       3|01.12.2010 08:34| 5,95|     13047|United Kingdom|\n",
            "|536367|RECIPE BOX WITH M...|       4|01.12.2010 08:34| 7,95|     13047|United Kingdom|\n",
            "+------+--------------------+--------+----------------+-----+----------+--------------+\n",
            "only showing top 20 rows\n",
            "\n"
          ]
        }
      ],
      "source": [
        "# Import the data from CSV\n",
        "market = spark.read.option(\"header\", True).option(\"delimiter\",\";\").csv(\"market-basket.csv\")\n",
        "market.show()"
      ]
    },
    {
      "cell_type": "markdown",
      "metadata": {
        "id": "XVmCjTeE5OL3"
      },
      "source": [
        "## 3. Data Preprocessing\n",
        "\n",
        "We need to prepare the data into combination of [\"id\", \"items\"] = [1, [item1, item2, item3]]"
      ]
    },
    {
      "cell_type": "code",
      "execution_count": 12,
      "metadata": {
        "colab": {
          "base_uri": "https://localhost:8080/"
        },
        "id": "VpSKdt-k-XMT",
        "outputId": "5f3ad545-f071-4ca5-8ce3-708b3a17e571"
      },
      "outputs": [
        {
          "output_type": "stream",
          "name": "stdout",
          "text": [
            "+------+--------------------+\n",
            "|billNo|            Itemname|\n",
            "+------+--------------------+\n",
            "|536365|WHITE HANGING HEA...|\n",
            "|536365| WHITE METAL LANTERN|\n",
            "|536365|CREAM CUPID HEART...|\n",
            "|536365|KNITTED UNION FLA...|\n",
            "|536365|RED WOOLLY HOTTIE...|\n",
            "|536365|SET 7 BABUSHKA NE...|\n",
            "|536365|GLASS STAR FROSTE...|\n",
            "|536366|HAND WARMER UNION...|\n",
            "|536366|HAND WARMER RED P...|\n",
            "|536367|ASSORTED COLOUR B...|\n",
            "|536367|POPPY'S PLAYHOUSE...|\n",
            "|536367|POPPY'S PLAYHOUSE...|\n",
            "|536367|FELTCRAFT PRINCES...|\n",
            "|536367|IVORY KNITTED MUG...|\n",
            "|536367|BOX OF 6 ASSORTED...|\n",
            "|536367|BOX OF VINTAGE JI...|\n",
            "|536367|BOX OF VINTAGE AL...|\n",
            "|536367|HOME BUILDING BLO...|\n",
            "|536367|LOVE BUILDING BLO...|\n",
            "|536367|RECIPE BOX WITH M...|\n",
            "+------+--------------------+\n",
            "only showing top 20 rows\n",
            "\n"
          ]
        }
      ],
      "source": [
        "# Select only the first two column\n",
        "market_raw = market.select(\"billNo\", \"Itemname\")\n",
        "market_raw.show()"
      ]
    },
    {
      "cell_type": "code",
      "execution_count": 13,
      "metadata": {
        "colab": {
          "base_uri": "https://localhost:8080/"
        },
        "id": "Y-nBPhHjCDJO",
        "outputId": "c40e6fc4-1d78-4ff3-95d2-c0d330b5f98a"
      },
      "outputs": [
        {
          "output_type": "execute_result",
          "data": {
            "text/plain": [
              "522064"
            ]
          },
          "metadata": {},
          "execution_count": 13
        }
      ],
      "source": [
        "# Before dropping the duplicates\n",
        "market_raw.count()"
      ]
    },
    {
      "cell_type": "code",
      "execution_count": 17,
      "metadata": {
        "colab": {
          "base_uri": "https://localhost:8080/"
        },
        "id": "Eyh4hrBCCesS",
        "outputId": "ae43532c-bd9b-4943-dd0d-279f6ae9f821"
      },
      "outputs": [
        {
          "output_type": "execute_result",
          "data": {
            "text/plain": [
              "511280"
            ]
          },
          "metadata": {},
          "execution_count": 17
        }
      ],
      "source": [
        "# Remove the duplicates\n",
        "market_raw = market_raw.dropDuplicates([\"billNo\", \"Itemname\"])\n",
        "market_raw.count()"
      ]
    },
    {
      "cell_type": "code",
      "execution_count": 27,
      "metadata": {
        "colab": {
          "base_uri": "https://localhost:8080/"
        },
        "id": "xyeGPN8d_WNw",
        "outputId": "a47f4277-1a83-48f5-cc69-ecba5b65ae3d"
      },
      "outputs": [
        {
          "output_type": "stream",
          "name": "stdout",
          "text": [
            "+------+--------------------+\n",
            "|billNo|               items|\n",
            "+------+--------------------+\n",
            "|536365|[KNITTED UNION FL...|\n",
            "|536366|[HAND WARMER UNIO...|\n",
            "|536367|[BOX OF VINTAGE J...|\n",
            "|536368|[YELLOW COAT RACK...|\n",
            "|536369|[BATH BUILDING BL...|\n",
            "|536370|[SPACEBOY LUNCH B...|\n",
            "|536371|[PAPER CHAIN KIT ...|\n",
            "|536372|[HAND WARMER UNIO...|\n",
            "|536373|[GLASS STAR FROST...|\n",
            "|536374|[VICTORIAN SEWING...|\n",
            "|536375|[SAVE THE PLANET ...|\n",
            "|536376|[RED HANGING HEAR...|\n",
            "|536377|[HAND WARMER RED ...|\n",
            "|536378|[PACK OF 60 PINK ...|\n",
            "|536380|[JAM MAKING SET P...|\n",
            "|536381|[ZINC WILLIE WINK...|\n",
            "|536382|[VINTAGE SNAKES &...|\n",
            "|536384|[ENAMEL BREAD BIN...|\n",
            "|536385|[TRADITIONAL CHRI...|\n",
            "|536386|[JUMBO BAG RED RE...|\n",
            "+------+--------------------+\n",
            "only showing top 20 rows\n",
            "\n"
          ]
        }
      ],
      "source": [
        "# Convert into this format: [\"billNo\", \"items\"] = [1, [a, b, c]]\n",
        "\n",
        "market_input = market_raw.groupBy(\"billNo\").agg(collect_list('Itemname').alias('items'))\n",
        "market_input.show()"
      ]
    },
    {
      "cell_type": "markdown",
      "metadata": {
        "id": "-YPXRiSo5OTD"
      },
      "source": [
        "## 4. FPGrowth Model"
      ]
    },
    {
      "cell_type": "code",
      "execution_count": 19,
      "metadata": {
        "id": "Ds4qZrOnA58G"
      },
      "outputs": [],
      "source": [
        "def fpGrowthModel(ms, mc):\n",
        "  # 1. Create the instance\n",
        "  fpGrowth = FPGrowth(itemsCol=\"items\", minSupport=ms, minConfidence=mc)\n",
        "\n",
        "  # 2. Train/fit the data training to become a model\n",
        "  model = fpGrowth.fit(market_input)\n",
        "  \n",
        "  return model"
      ]
    },
    {
      "cell_type": "code",
      "execution_count": 36,
      "metadata": {
        "id": "sxyHETvkE1tf"
      },
      "outputs": [],
      "source": [
        "# fpGrowth with minSupport=0.1, minConfidence=0.1\n",
        "m1 = fpGrowthModel(0.1, 0.1)\n",
        "\n",
        "# fpGrowth with minSupport=0.5, minConfidence=0.5\n",
        "m2 = fpGrowthModel(0.05, 0.05)\n",
        "\n",
        "# fpGrowth with minSupport=0.25, minConfidence=0.25\n",
        "m3 = fpGrowthModel(0.05, 0.1)"
      ]
    },
    {
      "cell_type": "markdown",
      "metadata": {
        "id": "NKBBOFBX5Oht"
      },
      "source": [
        "## 5. Evaluation\n",
        "\n",
        "Analyzing the obtained results"
      ]
    },
    {
      "cell_type": "code",
      "execution_count": 37,
      "metadata": {
        "id": "ToSPoNR0NqBi"
      },
      "outputs": [],
      "source": [
        "# Display Frequent Itemset and generated association rules.\n",
        "def showResult(model) :\n",
        "  model.freqItemsets.show()\n",
        "  #model.associationRules.show()"
      ]
    },
    {
      "cell_type": "code",
      "execution_count": 38,
      "metadata": {
        "colab": {
          "base_uri": "https://localhost:8080/"
        },
        "id": "NrWbq5ebF4Bf",
        "outputId": "55cf6e97-50d6-4eee-b562-2f7b5456fac2"
      },
      "outputs": [
        {
          "output_type": "stream",
          "name": "stdout",
          "text": [
            "+--------------------+----+\n",
            "|               items|freq|\n",
            "+--------------------+----+\n",
            "|[WHITE HANGING HE...|2202|\n",
            "+--------------------+----+\n",
            "\n"
          ]
        }
      ],
      "source": [
        "showResult(m1)"
      ]
    },
    {
      "cell_type": "code",
      "execution_count": 39,
      "metadata": {
        "colab": {
          "base_uri": "https://localhost:8080/"
        },
        "id": "BtBypn3_F5KA",
        "outputId": "2197ef0d-683f-4f32-c2ac-7fdfee7a675c"
      },
      "outputs": [
        {
          "output_type": "stream",
          "name": "stdout",
          "text": [
            "+--------------------+----+\n",
            "|               items|freq|\n",
            "+--------------------+----+\n",
            "|[JAM MAKING SET P...|1116|\n",
            "|[LUNCH BAG  BLACK...|1260|\n",
            "|[HEART OF WICKER ...|1181|\n",
            "|[JAM MAKING SET W...|1089|\n",
            "|[REGENCY CAKESTAN...|1904|\n",
            "|[ASSORTED COLOUR ...|1431|\n",
            "|[LUNCH BAG SPACEB...|1147|\n",
            "|[JUMBO SHOPPER VI...|1166|\n",
            "|[LUNCH BAG RED RE...|1541|\n",
            "|[PACK OF 72 RETRO...|1279|\n",
            "|[LUNCH BAG CARS B...|1132|\n",
            "|[JUMBO BAG PINK P...|1211|\n",
            "|[JUMBO BAG RED RE...|2064|\n",
            "|[WOODEN PICTURE F...|1092|\n",
            "|[NATURAL SLATE HE...|1232|\n",
            "|    [SPOTTY BUNTING]|1114|\n",
            "|[JUMBO STORAGE BA...|1178|\n",
            "|[RECIPE BOX PANTR...|1085|\n",
            "|     [PARTY BUNTING]|1656|\n",
            "|[PAPER CHAIN KIT ...|1143|\n",
            "+--------------------+----+\n",
            "only showing top 20 rows\n",
            "\n"
          ]
        }
      ],
      "source": [
        "showResult(m2)"
      ]
    },
    {
      "cell_type": "code",
      "source": [
        "showResult(m3)"
      ],
      "metadata": {
        "colab": {
          "base_uri": "https://localhost:8080/"
        },
        "id": "jm-OlPtgOp9L",
        "outputId": "e19ec19b-f109-4a52-e6aa-7c1500a2678b"
      },
      "execution_count": 40,
      "outputs": [
        {
          "output_type": "stream",
          "name": "stdout",
          "text": [
            "+--------------------+----+\n",
            "|               items|freq|\n",
            "+--------------------+----+\n",
            "|[JAM MAKING SET P...|1116|\n",
            "|[LUNCH BAG  BLACK...|1260|\n",
            "|[HEART OF WICKER ...|1181|\n",
            "|[JAM MAKING SET W...|1089|\n",
            "|[REGENCY CAKESTAN...|1904|\n",
            "|[ASSORTED COLOUR ...|1431|\n",
            "|[LUNCH BAG SPACEB...|1147|\n",
            "|[JUMBO SHOPPER VI...|1166|\n",
            "|[LUNCH BAG RED RE...|1541|\n",
            "|[PACK OF 72 RETRO...|1279|\n",
            "|[LUNCH BAG CARS B...|1132|\n",
            "|[JUMBO BAG PINK P...|1211|\n",
            "|[JUMBO BAG RED RE...|2064|\n",
            "|[WOODEN PICTURE F...|1092|\n",
            "|[NATURAL SLATE HE...|1232|\n",
            "|    [SPOTTY BUNTING]|1114|\n",
            "|[JUMBO STORAGE BA...|1178|\n",
            "|[RECIPE BOX PANTR...|1085|\n",
            "|     [PARTY BUNTING]|1656|\n",
            "|[PAPER CHAIN KIT ...|1143|\n",
            "+--------------------+----+\n",
            "only showing top 20 rows\n",
            "\n"
          ]
        }
      ]
    },
    {
      "cell_type": "markdown",
      "source": [
        "### Best fpGrowthmodel hyperparameter is: minSupport=0.05, minConfidence=0.05"
      ],
      "metadata": {
        "id": "-Fy1yfCnaaQ4"
      }
    },
    {
      "cell_type": "markdown",
      "metadata": {
        "id": "jtT-xwLs5Om5"
      },
      "source": [
        "## 6. Saving data into .xlsx\n",
        "\n"
      ]
    },
    {
      "cell_type": "code",
      "source": [
        "m2_data = m2.freqItemsets\n",
        "\n",
        "type(m2_data)\n",
        "\n",
        "pandasDF = m2_data.toPandas()\n",
        "pandasDF.to_excel('output.xlsx')"
      ],
      "metadata": {
        "id": "cJUiXXROau34"
      },
      "execution_count": 47,
      "outputs": []
    },
    {
      "cell_type": "code",
      "source": [],
      "metadata": {
        "id": "6gEUDu42a-Nr"
      },
      "execution_count": null,
      "outputs": []
    }
  ],
  "metadata": {
    "colab": {
      "provenance": []
    },
    "kernelspec": {
      "display_name": "Python 3",
      "name": "python3"
    },
    "language_info": {
      "name": "python"
    }
  },
  "nbformat": 4,
  "nbformat_minor": 0
}