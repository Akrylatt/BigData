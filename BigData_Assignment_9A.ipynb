{
  "nbformat": 4,
  "nbformat_minor": 0,
  "metadata": {
    "colab": {
      "provenance": []
    },
    "kernelspec": {
      "name": "python3",
      "display_name": "Python 3"
    },
    "language_info": {
      "name": "python"
    }
  },
  "cells": [
    {
      "cell_type": "markdown",
      "source": [
        "#Task one\n",
        "\n",
        "You can find the dataset here.\n",
        "Try with several hyperparameters values (maxIter and regParam).\n",
        "For example, you can try maxIter = 5, 10, or 20. regParam = 0.1, 0.5, or 1.0\n",
        "Make a conclusion which models performs better according to the RMSE.\n",
        "You can put this conclusion inside your Jupyter notebook.\n"
      ],
      "metadata": {
        "id": "ghCdgTz8cZm1"
      }
    },
    {
      "cell_type": "code",
      "source": [
        "!pip install pyspark"
      ],
      "metadata": {
        "colab": {
          "base_uri": "https://localhost:8080/"
        },
        "id": "Cehpq4BmhIi-",
        "outputId": "6d6c90d7-8b86-4ec7-c3e3-263cae8bf58a"
      },
      "execution_count": null,
      "outputs": [
        {
          "output_type": "stream",
          "name": "stdout",
          "text": [
            "Looking in indexes: https://pypi.org/simple, https://us-python.pkg.dev/colab-wheels/public/simple/\n",
            "Requirement already satisfied: pyspark in /usr/local/lib/python3.9/dist-packages (3.3.2)\n",
            "Requirement already satisfied: py4j==0.10.9.5 in /usr/local/lib/python3.9/dist-packages (from pyspark) (0.10.9.5)\n"
          ]
        }
      ]
    },
    {
      "cell_type": "code",
      "source": [
        "from pyspark.ml.evaluation import RegressionEvaluator\n",
        "from pyspark.ml.recommendation import ALS\n",
        "from pyspark.sql import Row\n",
        "from pyspark.sql import SparkSession\n",
        "\n",
        "spark = SparkSession.builder.master(\"local[1]\").appName(\"SparkByExamples.com\").getOrCreate()\n",
        "\n",
        "lines = spark.read.text(\"/content/sample_movielens_ratings.txt\").rdd\n",
        "parts = lines.map(lambda row: row.value.split(\"::\"))\n",
        "ratingsRDD = parts.map(lambda p: Row(userId=int(p[0]), movieId=int(p[1]),\n",
        "                                     rating=float(p[2]), timestamp=int(p[3])))\n",
        "ratings = spark.createDataFrame(ratingsRDD)\n",
        "(training, test) = ratings.randomSplit([0.8, 0.2])"
      ],
      "metadata": {
        "id": "ThMvRIHHm9Vv"
      },
      "execution_count": null,
      "outputs": []
    },
    {
      "cell_type": "code",
      "source": [
        "iter = [5, 10, 20]\n",
        "reg = [0.1, 0.5, 1.0]\n",
        "\n",
        "for i in iter:\n",
        "    for r in reg:\n",
        "        als = ALS(maxIter=i, regParam=r, userCol=\"userId\", itemCol=\"movieId\", ratingCol=\"rating\",\n",
        "                coldStartStrategy=\"drop\")\n",
        "        model = als.fit(training)\n",
        "\n",
        "        # Evaluate the model by computing the RMSE on the test data\n",
        "        predictions = model.transform(test)\n",
        "        evaluator = RegressionEvaluator(metricName=\"rmse\", labelCol=\"rating\",\n",
        "                                        predictionCol=\"prediction\")\n",
        "        rmse = evaluator.evaluate(predictions)\n",
        "        print(f\"Root-mean-square error for maxIter = {i}, regParam = {r}: \" + str(rmse))"
      ],
      "metadata": {
        "colab": {
          "base_uri": "https://localhost:8080/"
        },
        "id": "nTV_821MuqtD",
        "outputId": "51b4fa61-37bd-4977-ff3c-d027fef7aaee"
      },
      "execution_count": 4,
      "outputs": [
        {
          "metadata": {
            "tags": null
          },
          "name": "stdout",
          "output_type": "stream",
          "text": [
            "Root-mean-square error for maxIter = 5, regParam = 0.1: 1.025699297680682\n",
            "Root-mean-square error for maxIter = 5, regParam = 0.5: 1.2542259753109646\n",
            "Root-mean-square error for maxIter = 5, regParam = 1.0: 1.5070491305752927\n",
            "Root-mean-square error for maxIter = 10, regParam = 0.1: 0.9954649301428903\n",
            "Root-mean-square error for maxIter = 10, regParam = 0.5: 1.251753933460711\n",
            "Root-mean-square error for maxIter = 10, regParam = 1.0: 1.5070408409467195\n",
            "Root-mean-square error for maxIter = 20, regParam = 0.1: 0.9907019112592589\n",
            "Root-mean-square error for maxIter = 20, regParam = 0.5: 1.2517109148091836\n",
            "Root-mean-square error for maxIter = 20, regParam = 1.0: 1.5070408409789606\n"
          ]
        }
      ]
    },
    {
      "cell_type": "markdown",
      "source": [
        "The best combination of hyper parameters is maxIter = 20, regParam = 0.1 with ems = 0.991"
      ],
      "metadata": {
        "id": "yaRe91SZuSzG"
      }
    },
    {
      "cell_type": "code",
      "source": [],
      "metadata": {
        "id": "_JpWFjYX1Xwf"
      },
      "execution_count": null,
      "outputs": []
    }
  ]
}