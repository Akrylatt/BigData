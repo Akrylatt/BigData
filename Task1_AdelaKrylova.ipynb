{
  "nbformat": 4,
  "nbformat_minor": 0,
  "metadata": {
    "colab": {
      "provenance": []
    },
    "kernelspec": {
      "name": "python3",
      "display_name": "Python 3"
    },
    "language_info": {
      "name": "python"
    }
  },
  "cells": [
    {
      "cell_type": "markdown",
      "source": [
        "# Midterm Exam Big Data part 1\n",
        "- Name : Adela Krylova\n",
        "- ID : 5999222017"
      ],
      "metadata": {
        "id": "hV3U3QAndPT8"
      }
    },
    {
      "cell_type": "markdown",
      "source": [
        "##1. Task description\n",
        "\n",
        "Spark Streaming\n",
        "\n",
        "Create an Apache Spark notebook for handling file stream inside a folder.\n",
        "\n",
        "Use the data given in news folder (news-1.json, news-2.json, news-3.json)\n",
        "\n",
        "Put the input inside folder named input-your-student-id. Example: input-51231132\n",
        "\n",
        "Put the output inside folder named output-your-student-id\n"
      ],
      "metadata": {
        "id": "RdORHxykdeei"
      }
    },
    {
      "cell_type": "code",
      "source": [
        "!pip install pyspark"
      ],
      "metadata": {
        "colab": {
          "base_uri": "https://localhost:8080/"
        },
        "id": "ROYD61CPdQPj",
        "outputId": "e025ce11-81c1-4ce4-e9b0-3420a8821430"
      },
      "execution_count": 1,
      "outputs": [
        {
          "output_type": "stream",
          "name": "stdout",
          "text": [
            "Looking in indexes: https://pypi.org/simple, https://us-python.pkg.dev/colab-wheels/public/simple/\n",
            "Collecting pyspark\n",
            "  Downloading pyspark-3.4.0.tar.gz (310.8 MB)\n",
            "\u001b[2K     \u001b[90m━━━━━━━━━━━━━━━━━━━━━━━━━━━━━━━━━━━━━━━\u001b[0m \u001b[32m310.8/310.8 MB\u001b[0m \u001b[31m3.2 MB/s\u001b[0m eta \u001b[36m0:00:00\u001b[0m\n",
            "\u001b[?25h  Preparing metadata (setup.py) ... \u001b[?25l\u001b[?25hdone\n",
            "Requirement already satisfied: py4j==0.10.9.7 in /usr/local/lib/python3.9/dist-packages (from pyspark) (0.10.9.7)\n",
            "Building wheels for collected packages: pyspark\n",
            "  Building wheel for pyspark (setup.py) ... \u001b[?25l\u001b[?25hdone\n",
            "  Created wheel for pyspark: filename=pyspark-3.4.0-py2.py3-none-any.whl size=311317145 sha256=16205b4c2f0f3bfb780a450822f62cafd9e20ea549a75dc24b090049a2733bdc\n",
            "  Stored in directory: /root/.cache/pip/wheels/9f/34/a4/159aa12d0a510d5ff7c8f0220abbea42e5d81ecf588c4fd884\n",
            "Successfully built pyspark\n",
            "Installing collected packages: pyspark\n",
            "Successfully installed pyspark-3.4.0\n"
          ]
        }
      ]
    },
    {
      "cell_type": "markdown",
      "source": [
        "##2. Create necessary files and directories "
      ],
      "metadata": {
        "id": "KBAsZSeifyjz"
      }
    },
    {
      "cell_type": "code",
      "source": [
        "!unzip /content/new.zip"
      ],
      "metadata": {
        "colab": {
          "base_uri": "https://localhost:8080/"
        },
        "id": "Q1TX-qVjeCcN",
        "outputId": "7afe2116-d606-458e-cae2-b7f37dce0316"
      },
      "execution_count": 3,
      "outputs": [
        {
          "output_type": "stream",
          "name": "stdout",
          "text": [
            "Archive:  /content/new.zip\n",
            "  inflating: news-3.json             \n",
            "  inflating: news-2.json             \n",
            "  inflating: news-1.json             \n"
          ]
        }
      ]
    },
    {
      "cell_type": "code",
      "source": [
        "input = \"/content/input-5999222017\"\n",
        "output = \"/content/output-5999222017\""
      ],
      "metadata": {
        "id": "EYG5vBOOe2fB"
      },
      "execution_count": 4,
      "outputs": []
    },
    {
      "cell_type": "markdown",
      "source": [
        "##3. Initialize Spark"
      ],
      "metadata": {
        "id": "nRXK_DowgKXS"
      }
    },
    {
      "cell_type": "code",
      "source": [
        "from pyspark.sql import SparkSession\n",
        "\n",
        "# creating a new spark session\n",
        "spark = SparkSession \\\n",
        "    .builder \\\n",
        "    .appName(\"Spark Streaming\") \\\n",
        "    .config(\"spark.streaming.stopGracefullyOnShutdown\", True) \\\n",
        "    .master(\"local[*]\") \\\n",
        "    .getOrCreate()"
      ],
      "metadata": {
        "id": "pcv71WqCfwHw"
      },
      "execution_count": 7,
      "outputs": []
    },
    {
      "cell_type": "markdown",
      "source": [
        "### Streaming"
      ],
      "metadata": {
        "id": "C7o9iM7phgNU"
      }
    },
    {
      "cell_type": "code",
      "source": [
        "#creating a streaming session\n",
        "\n",
        "spark.conf.set(\"spark.sql.streaming.schemaInference\", True)\n",
        "\n",
        "streaming_df = spark.readStream\\\n",
        "    .format(\"json\") \\\n",
        "    .option(\"cleanSource\", \"off\") \\\n",
        "    .option(\"maxFilesPerTrigger\", 1) \\\n",
        "    .load(input)"
      ],
      "metadata": {
        "id": "43LagNJwgF0Q"
      },
      "execution_count": 18,
      "outputs": []
    },
    {
      "cell_type": "code",
      "source": [
        "streaming_df.printSchema()"
      ],
      "metadata": {
        "colab": {
          "base_uri": "https://localhost:8080/"
        },
        "id": "oW0WTORxg67b",
        "outputId": "c80819bf-857f-4e23-b76f-6317c76001ea"
      },
      "execution_count": 19,
      "outputs": [
        {
          "output_type": "stream",
          "name": "stdout",
          "text": [
            "root\n",
            " |-- authors: string (nullable = true)\n",
            " |-- category: string (nullable = true)\n",
            " |-- date: string (nullable = true)\n",
            " |-- headline: string (nullable = true)\n",
            " |-- link: string (nullable = true)\n",
            " |-- short_description: string (nullable = true)\n",
            "\n"
          ]
        }
      ]
    },
    {
      "cell_type": "markdown",
      "source": [
        "### Writing"
      ],
      "metadata": {
        "id": "-MgGjlhfhjs2"
      }
    },
    {
      "cell_type": "code",
      "source": [
        "writing_df = streaming_df.writeStream \\\n",
        "    .format(\"json\") \\\n",
        "    .option(\"path\", output) \\\n",
        "    .option(\"checkpointLocation\",\"/content/my_checkpoints\") \\\n",
        "    .outputMode(\"append\") \\\n",
        "    .start()"
      ],
      "metadata": {
        "id": "07bvljOrh5Di"
      },
      "execution_count": 20,
      "outputs": []
    },
    {
      "cell_type": "markdown",
      "source": [
        "##4. Start Streming"
      ],
      "metadata": {
        "id": "Etxjagb1iMoD"
      }
    },
    {
      "cell_type": "code",
      "source": [
        "try:\n",
        "    writing_df.awaitTermination()\n",
        "except:\n",
        "    # waiting for manual forcing to end the session\n",
        "    # showing the output\n",
        "    out_df = spark.read.json(output)\n",
        "    out_df.show(truncate=False)"
      ],
      "metadata": {
        "colab": {
          "base_uri": "https://localhost:8080/"
        },
        "id": "2Crp-CDGh9fF",
        "outputId": "ba31cff6-c205-41ee-8d10-c7aa5d194bbd"
      },
      "execution_count": 22,
      "outputs": [
        {
          "output_type": "stream",
          "name": "stderr",
          "text": [
            "ERROR:root:KeyboardInterrupt while sending command.\n",
            "Traceback (most recent call last):\n",
            "  File \"/usr/local/lib/python3.9/dist-packages/py4j/java_gateway.py\", line 1038, in send_command\n",
            "    response = connection.send_command(command)\n",
            "  File \"/usr/local/lib/python3.9/dist-packages/py4j/clientserver.py\", line 511, in send_command\n",
            "    answer = smart_decode(self.stream.readline()[:-1])\n",
            "  File \"/usr/lib/python3.9/socket.py\", line 704, in readinto\n",
            "    return self._sock.recv_into(b)\n",
            "KeyboardInterrupt\n"
          ]
        },
        {
          "output_type": "stream",
          "name": "stdout",
          "text": [
            "+---------------------------------------+--------------+----------+----------------------------------------------------------------------------------------+-----------------------------------------------------------------------------------------------------------------+--------------------------------------------------------------------------------------------------------------------------------------------------------------------------------------------------------+\n",
            "|authors                                |category      |date      |headline                                                                                |link                                                                                                             |short_description                                                                                                                                                                                       |\n",
            "+---------------------------------------+--------------+----------+----------------------------------------------------------------------------------------+-----------------------------------------------------------------------------------------------------------------+--------------------------------------------------------------------------------------------------------------------------------------------------------------------------------------------------------+\n",
            "|                                       |U.S. NEWS     |2022-09-04|Emergency Declared As Flash Flooding Hits Northwest Georgia                             |https://www.huffpost.com/entry/georgia-flash-flooding_n_63151514e4b0eac9f4cdc7d3                                 |Thunderstorms and heavy rain pounded parts of northwest Georgia on Sunday, sparking flash flooding and dangerously high waters in some areas.                                                           |\n",
            "|Marco Margaritoff                      |ENTERTAINMENT |2022-09-03|'The Osbournes' Will Return In British Revival On BBC: 'Same Laughter, Love And Tears'  |https://www.huffpost.com/entry/the-osbournes-revival-series-announcement_n_6313714ee4b046aa022acc2e              |Millennials might remember the family's MTV reality series from the early 2000s. The BBC series will be filmed at the 350-acre Osbourne estate in England.                                              |\n",
            "|                                       |U.S. NEWS     |2022-09-03|Plane That Circled Mississippi Threatening To Crash Has Landed                          |https://www.huffpost.com/entry/tupelo-mississippi-airplane-walmart_n_6313572be4b0536be045b912                    |A pilot has been arrested after circling a small airplane over Tupelo, Mississippi, while threatening to crash into a Walmart store.                                                                    |\n",
            "|Marcia Dunn, AP                        |SCIENCE       |2022-09-03|Fuel Leak Ruins NASA's 2nd Shot At Launching New Moon Rocket                            |https://www.huffpost.com/entry/fuel-leak-ruins-nasa-launch-moon-artemis_n_63137247e4b0eac9f4cd4aa2               |Part of the space agency's Artemis program, the rocket is the most powerful to date.                                                                                                                    |\n",
            "|Terry Wallace, AP                      |U.S. NEWS     |2022-09-03|9 Migrants Are Found Dead In Rio Grande: Border Patrol                                  |https://www.huffpost.com/entry/8-migrants-dead-rio-grande-border-patrol_n_6312d71ce4b0536be0458388               |Tragic toll followed hazardous crossing by desperate dozens, said officials.                                                                                                                            |\n",
            "|Ben Blanchet                           |U.S. NEWS     |2022-09-02|Owner Of New England Frozen Yogurt Shops Accused Of Hiding Camera In Store Bathroom     |https://www.huffpost.com/entry/new-england-frozen-yogurt-owner-charged_n_6311972ae4b020c4ffab96b2                |Nashua police charged Chanphanou (Sab) Pou with three misdemeanor counts of violation of privacy. He could face up to one year in jail for each charge.                                                 |\n",
            "|Marita Vlachou                         |POLITICS      |2022-09-02|Former White House Counsel Pat Cipollone To Testify Before Grand Jury: Reports          |https://www.huffpost.com/entry/pat-cipollone-jan-6-grand-jury_n_6311c619e4b07d96a24d2ae8                         |Cipollone's former deputy Patrick Philbin is also reportedly scheduled to provide testimony to the grand jury on Friday.                                                                                |\n",
            "|                                       |U.S. NEWS     |2022-09-02|Tropical Storm Danielle Strengthens Into Hurricane, No Current Threat To Land           |https://www.huffpost.com/entry/hurricane-danielle-tropical-storm_n_631236a4e4b020c4ffacca40                      |The storm — the first hurricane of an unusually quiet storm season — is centered about 885 miles west of the Azores.                                                                                    |\n",
            "|Jim Heintz and Vladimir Isachenkov, AP |WORLD NEWS    |2022-09-02|Putin Plans To Snub Gorbachev's Funeral                                                 |https://www.huffpost.com/entry/putin-snubs-gorbachev-funeral_n_6312499ce4b09e34c39504ef                          |The low-key funeral reflects the Kremlin’s uneasiness about the legacy of Gorbachev, who is despised by many at home for the collapse of the Soviet Union.                                              |\n",
            "|Marcia Dunn, AP                        |U.S. NEWS     |2022-09-02|NASA Aims For Saturday Launch Of New Moon Rocket After Fixing Fuel Leaks                |https://www.huffpost.com/entry/nasa-artemis-rocket-launch_n_631265e3e4b0fc6bd23b7e7e                             |The inaugural flight of the 322-foot Artemis I rocket — the most powerful ever built by NASA — was delayed late in the countdown Monday.                                                                |\n",
            "|Christopher Rugaber, AP                |U.S. NEWS     |2022-09-02|U.S. Hiring Slowed In August As Employers Add 315,000 Jobs                              |https://www.huffpost.com/entry/us-economy-jobs-report-august_n_6311fc30e4b0aefceecb070e                          |The unemployment rate rose to 3.7%, from a half-century low of 3.5% in July, as more Americans came off the sidelines to look for jobs.                                                                 |\n",
            "|Nina Golgowski                         |U.S. NEWS     |2022-09-01|Pregnant Woman Who Claimed Unborn Baby Was HOV Lane Passenger Receives Another Ticket   |https://www.huffpost.com/entry/pregnant-brandy-bottone-texas-hov-lane-citation_n_6310b3f7e4b088f7423b32d0        |Brandy Bottone had referred to Roe v. Wade and Texas' penal code, which identifies an unborn child as an individual, when she was first stopped for using the lane.                                     |\n",
            "|Eric Tucker and Mary Clare Jalonick, AP|U.S. NEWS     |2022-09-21|Virginia Thomas Agrees To Interview With Jan. 6 Panel                                   |https://www.huffpost.com/entry/virginia-thomas-agrees-to-interview-with-jan-6-panel_n_632ba0f2e4b09d8701bbe16d   |Conservative activist Virginia Thomas, the wife of Supreme Court Justice Clarence Thomas, has agreed to participate in a voluntary interview with the House panel investigating the Jan. 6 insurrection.|\n",
            "|Marco Margaritoff                      |WORLD NEWS    |2022-09-20|Russian Cosmonaut Valery Polyakov Who Broke Record With 437-Day Stay In Space Dies At 80|https://www.huffpost.com/entry/valery-polyakov-dies_n_6329d497e4b0913a3dd5336c                                   |Polyakov's record-breaking trip to outer space saw him orbit Earth 7,075 times and travel nearly 187 million miles.                                                                                     |\n",
            "|Marina Fang and Candice Frederick      |CULTURE & ARTS|2022-09-20|'Reboot' Is A Clever And Not Too Navel-Gazey Look Inside TV Reboots                     |https://www.huffpost.com/entry/hulu-reboot-should-you-watch-it_n_6324a099e4b0eac9f4e18b46                        |Starring Keegan-Michael Key, Judy Greer and Johnny Knoxville, the Hulu show follows the revival of a fictional early 2000s sitcom.                                                                      |\n",
            "|Beth Harris, AP                        |SPORTS        |2022-09-20|Maury Wills, Base-Stealing Shortstop For Dodgers, Dies At 89                            |https://www.huffpost.com/entry/dodgers-baseball-obit-wills_n_6329feb3e4b07198f0134500                            |Maury Wills, who helped the Los Angeles Dodgers win three World Series titles with his base-stealing prowess, has died.                                                                                 |\n",
            "|Jon Gambrell, AP                       |WORLD NEWS    |2022-09-20|4 Russian-Controlled Ukrainian Regions Schedule Votes This Week To Join Russia          |https://www.huffpost.com/entry/russian-controlled-ukrainian-regions-referendum_n_6329d53ae4b07198f012f023        |The concerted and quickening Kremlin-backed efforts to swallow up four regions could set the stage for Moscow to escalate the war.                                                                      |\n",
            "|Dánica Coto, AP                        |WORLD NEWS    |2022-09-20|Fiona Barrels Toward Turks And Caicos Islands As Category 3 Hurricane                   |https://www.huffpost.com/entry/hurricane-fiona-barrels-toward-turks-and-caicos-islands_n_63298597e4b0ed991abcacf9|The Turks and Caicos Islands government imposed a curfew as the intensifying storm kept dropping copious rain over the Dominican Republic and Puerto Rico.                                              |\n",
            "|                                       |ENTERTAINMENT |2022-09-20|Golden Globes Returning To NBC In January After Year Off-Air                            |https://www.huffpost.com/entry/golden-globes-return-nbc_n_6329f151e4b0ed991abda7f3                               |For the past 18 months, Hollywood has effectively boycotted the Globes after reports that the HFPA’s 87 members of non-American journalists included no Black members.                                  |\n",
            "|                                       |POLITICS      |2022-09-19|Biden Says U.S. Forces Would Defend Taiwan If China Invaded                             |https://www.huffpost.com/entry/biden-us-forces-defend-taiwan-against-china_n_6327ec68e4b0ed021dfe3695            |President issues vow as tensions with China rise.                                                                                                                                                       |\n",
            "+---------------------------------------+--------------+----------+----------------------------------------------------------------------------------------+-----------------------------------------------------------------------------------------------------------------+--------------------------------------------------------------------------------------------------------------------------------------------------------------------------------------------------------+\n",
            "only showing top 20 rows\n",
            "\n"
          ]
        }
      ]
    },
    {
      "cell_type": "code",
      "source": [],
      "metadata": {
        "id": "fc9UHrPViUEx"
      },
      "execution_count": null,
      "outputs": []
    }
  ]
}